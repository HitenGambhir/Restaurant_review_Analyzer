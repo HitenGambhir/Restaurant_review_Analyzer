{
  "nbformat": 4,
  "nbformat_minor": 0,
  "metadata": {
    "colab": {
      "provenance": [],
      "authorship_tag": "ABX9TyNdTt9dhrgTSeQ4MsZ36fX/",
      "include_colab_link": true
    },
    "kernelspec": {
      "name": "python3",
      "display_name": "Python 3"
    },
    "language_info": {
      "name": "python"
    }
  },
  "cells": [
    {
      "cell_type": "markdown",
      "metadata": {
        "id": "view-in-github",
        "colab_type": "text"
      },
      "source": [
        "<a href=\"https://colab.research.google.com/github/HitenGambhir/Restaurant_review_Analyzer/blob/main/Restaurant1.ipynb\" target=\"_parent\"><img src=\"https://colab.research.google.com/assets/colab-badge.svg\" alt=\"Open In Colab\"/></a>"
      ]
    },
    {
      "cell_type": "code",
      "execution_count": 12,
      "metadata": {
        "colab": {
          "base_uri": "https://localhost:8080/",
          "height": 495
        },
        "id": "eunuwQHbn1Lt",
        "outputId": "a7da98eb-bf86-4bd2-d365-1abeeec17f2b"
      },
      "outputs": [
        {
          "output_type": "stream",
          "name": "stderr",
          "text": [
            "[nltk_data] Downloading package stopwords to /root/nltk_data...\n",
            "[nltk_data]   Package stopwords is already up-to-date!\n"
          ]
        },
        {
          "output_type": "stream",
          "name": "stdout",
          "text": [
            "Accuracy Score is : 0.73\n"
          ]
        },
        {
          "output_type": "display_data",
          "data": {
            "text/plain": [
              "<Figure size 640x480 with 2 Axes>"
            ],
            "image/png": "[encoded data removed]"
          },
          "metadata": {}
        }
      ],
      "source": [
        "import numpy as np # linear algebra\n",
        "import pandas as pd # data processing, CSV file I/O (e.g. pd.read_csv)\n",
        "import matplotlib.pyplot\n",
        "dataset = pd.read_csv('Restaurant_Reviews.tsv', delimiter = '\\t', quoting = 3)\n",
        "dataset.head()\n",
        "\n",
        "import re\n",
        "import nltk\n",
        "# Download the stopwords dataset\n",
        "nltk.download('stopwords')  # This line downloads the required dataset\n",
        "from nltk.corpus import stopwords\n",
        "from nltk.stem.porter import PorterStemmer\n",
        "corpus = []\n",
        "for i in range(0,1000):\n",
        "    review = re.sub('[^a-zA-Z]', ' ', dataset['Review'][i])\n",
        "    review = review.lower()\n",
        "    review = review.split()\n",
        "    ps = PorterStemmer()\n",
        "    review = [ps.stem(word) for word in review if not word in set(stopwords.words('english'))]\n",
        "    review = ' '.join(review)\n",
        "    corpus.append(review)\n",
        "\n",
        "from sklearn.feature_extraction.text import CountVectorizer\n",
        "cv = CountVectorizer(max_features = 1500)\n",
        "# Convert the output of fit_transform to a NumPy array instead of a matrix\n",
        "X = cv.fit_transform(corpus).toarray()\n",
        "y = dataset.iloc[:,1].values\n",
        "\n",
        "from sklearn.model_selection import train_test_split\n",
        "X_train, X_test, y_train, y_test = train_test_split(X , y, test_size = 0.20, random_state = 0)\n",
        "\n",
        "from sklearn.naive_bayes import GaussianNB\n",
        "classifier = GaussianNB()\n",
        "classifier.fit(X_train, y_train)\n",
        "\n",
        "\n",
        "y_pred = classifier.predict(X_test)\n",
        "\n",
        "from sklearn.metrics import confusion_matrix\n",
        "from sklearn.metrics import accuracy_score\n",
        "Confusion_Matrix = confusion_matrix(y_test, y_pred)\n",
        "Accuracy_Score = accuracy_score(y_test, y_pred)\n",
        "\n",
        "import seaborn as sn\n",
        "import pandas as pd\n",
        "import matplotlib.pyplot as plt\n",
        "\n",
        "df_cm = pd.DataFrame(Confusion_Matrix, range(2),\n",
        "                  range(2))\n",
        "#plt.figure(figsize = (10,7))\n",
        "sn.set(font_scale=1.4)#for label size\n",
        "sn.heatmap(df_cm, annot=True,annot_kws={\"size\": 16})# font size\n",
        "print(\"Accuracy Score is :\", Accuracy_Score)"
      ]
    },
    {
      "cell_type": "code",
      "source": [
        "feedback = \"\"\n",
        "\n",
        "newReview = \"\"\n",
        "\n",
        "newReview = \"The food was Amazing\"\n",
        "\n",
        "def predict(new_review):\n",
        "\n",
        "        new_review = re.sub(\"[^a-zA-Z]\", \" \", new_review)\n",
        "\n",
        "        new_review = new_review.lower().split()\n",
        "\n",
        "        new_review = [ps.stem(word) for word in new_review if word not in set(stopwords.words(\"english\"))]\n",
        "\n",
        "        new_review = \" \".join(new_review)\n",
        "\n",
        "        new_review = [new_review]\n",
        "\n",
        "        new_review = cv.transform(new_review).toarray()\n",
        "\n",
        "        if classifier.predict(new_review)[0] == 1:\n",
        "\n",
        "            return \"Positive\"\n",
        "\n",
        "        else:\n",
        "\n",
        "            return \"Negative\"\n",
        "\n",
        "\n",
        "\n",
        "feedback = predict(newReview)\n",
        "\n",
        "print(\"This review is: \", feedback)\n"
      ],
      "metadata": {
        "colab": {
          "base_uri": "https://localhost:8080/"
        },
        "id": "xCSETbGVyBVY",
        "outputId": "d3d126f6-3bd6-42de-fbd0-a80281200ecc"
      },
      "execution_count": 13,
      "outputs": [
        {
          "output_type": "stream",
          "name": "stdout",
          "text": [
            "This review is:  Positive\n"
          ]
        }
      ]
    },
    {
      "cell_type": "code",
      "source": [
        "feedback = \"\"\n",
        "\n",
        "newReview = \"\"\n",
        "\n",
        "newReview = \"The food was terrible\"\n",
        "\n",
        "def predict(new_review):\n",
        "\n",
        "        new_review = re.sub(\"[^a-zA-Z]\", \" \", new_review)\n",
        "\n",
        "        new_review = new_review.lower().split()\n",
        "\n",
        "        new_review = [ps.stem(word) for word in new_review if word not in set(stopwords.words(\"english\"))]\n",
        "\n",
        "        new_review = \" \".join(new_review)\n",
        "\n",
        "        new_review = [new_review]\n",
        "\n",
        "        new_review = cv.transform(new_review).toarray()\n",
        "\n",
        "        if classifier.predict(new_review)[0] == 1:\n",
        "\n",
        "            return \"Positive\"\n",
        "\n",
        "        else:\n",
        "\n",
        "            return \"Negative\"\n",
        "\n",
        "\n",
        "\n",
        "feedback = predict(newReview)\n",
        "\n",
        "print(\"This review is: \", feedback)"
      ],
      "metadata": {
        "colab": {
          "base_uri": "https://localhost:8080/"
        },
        "id": "4ZCY0NBdyLSx",
        "outputId": "858950d3-f51c-47e3-a7ec-651d942008f1"
      },
      "execution_count": 14,
      "outputs": [
        {
          "output_type": "stream",
          "name": "stdout",
          "text": [
            "This review is:  Negative\n"
          ]
        }
      ]
    }
  ]
}